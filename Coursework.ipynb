{
  "nbformat": 4,
  "nbformat_minor": 0,
  "metadata": {
    "colab": {
      "name": "Coursework.ipynb",
      "provenance": [],
      "collapsed_sections": [],
      "authorship_tag": "ABX9TyMJ9Ar07lWShWBcEjpXfrzX",
      "include_colab_link": true
    },
    "kernelspec": {
      "display_name": "Python 3",
      "name": "python3"
    },
    "language_info": {
      "name": "python"
    }
  },
  "cells": [
    {
      "cell_type": "markdown",
      "metadata": {
        "id": "view-in-github",
        "colab_type": "text"
      },
      "source": [
        "<a href=\"https://colab.research.google.com/github/morkeDev/Sentiment-Analysis/blob/main/Coursework.ipynb\" target=\"_parent\"><img src=\"https://colab.research.google.com/assets/colab-badge.svg\" alt=\"Open In Colab\"/></a>"
      ]
    },
    {
      "cell_type": "markdown",
      "metadata": {
        "id": "slHhayJr8H30"
      },
      "source": [
        "# Resources"
      ]
    },
    {
      "cell_type": "code",
      "metadata": {
        "id": "K_-c77Q04OJd"
      },
      "source": [
        "import pandas as pd\n",
        "import string\n",
        "import numpy as np\n",
        "import nltk\n",
        "import itertools\n",
        "\n",
        "from keras.models import Sequential\n",
        "from keras import layers\n",
        "from keras.preprocessing.text import Tokenizer\n",
        "from keras.preprocessing.sequence import pad_sequences"
      ],
      "execution_count": null,
      "outputs": []
    },
    {
      "cell_type": "markdown",
      "metadata": {
        "id": "3YANqvbKohcI"
      },
      "source": [
        "Mounting Google Drive\n"
      ]
    },
    {
      "cell_type": "code",
      "metadata": {
        "colab": {
          "base_uri": "https://localhost:8080/"
        },
        "id": "fxww34N08WKl",
        "outputId": "aad3ddd0-f3a1-4e18-c1be-4a9efc1b87bd"
      },
      "source": [
        "from google.colab import drive\n",
        "drive.mount('/content/drive')"
      ],
      "execution_count": null,
      "outputs": [
        {
          "output_type": "stream",
          "name": "stdout",
          "text": [
            "Drive already mounted at /content/drive; to attempt to forcibly remount, call drive.mount(\"/content/drive\", force_remount=True).\n"
          ]
        }
      ]
    },
    {
      "cell_type": "markdown",
      "metadata": {
        "id": "cR9dGTK4mk3K"
      },
      "source": [
        "Loading .csv files"
      ]
    },
    {
      "cell_type": "code",
      "metadata": {
        "id": "krCLJ4sP9G-g"
      },
      "source": [
        "dfTrain = pd.read_csv('/content/drive/My Drive/train.csv', names=['reviews', 'labels'])\n",
        "dfTest = pd.read_csv('/content/drive/My Drive/test.csv', names=['reviews', 'labels'])\n",
        "dfVal = pd.read_csv('/content/drive/My Drive/val.csv', names=['reviews', 'labels'])"
      ],
      "execution_count": null,
      "outputs": []
    },
    {
      "cell_type": "markdown",
      "metadata": {
        "id": "QziYQd1GoO7E"
      },
      "source": [
        "# Data Analysis"
      ]
    },
    {
      "cell_type": "code",
      "metadata": {
        "colab": {
          "base_uri": "https://localhost:8080/"
        },
        "id": "PB7xllnQo_ki",
        "outputId": "58d8fe06-3897-4c7b-9e3d-61426bf67638"
      },
      "source": [
        "print(dfTrain.shape) # checks the shape of the frame\n",
        "print(dfTest.shape) # checks the shape of the frame\n",
        "print(dfVal.shape) # checks the shape of the frame"
      ],
      "execution_count": null,
      "outputs": [
        {
          "output_type": "stream",
          "name": "stdout",
          "text": [
            "(1400, 2)\n",
            "(400, 2)\n",
            "(50, 2)\n"
          ]
        }
      ]
    },
    {
      "cell_type": "code",
      "metadata": {
        "colab": {
          "base_uri": "https://localhost:8080/",
          "height": 282
        },
        "id": "TpzTRQBUnfXC",
        "outputId": "d82aecc9-05eb-4ad7-dc53-7eb0148271f5"
      },
      "source": [
        "dfTrain['reviews'].str.len().plot.hist() # frequence of characters in the dataframe"
      ],
      "execution_count": null,
      "outputs": [
        {
          "output_type": "execute_result",
          "data": {
            "text/plain": [
              "<matplotlib.axes._subplots.AxesSubplot at 0x7fe7059488d0>"
            ]
          },
          "metadata": {},
          "execution_count": 5
        },
        {
          "output_type": "display_data",
          "data": {
            "image/png": "[encoded data removed]",
            "text/plain": [
              "<Figure size 432x288 with 1 Axes>"
            ]
          },
          "metadata": {
            "needs_background": "light"
          }
        }
      ]
    },
    {
      "cell_type": "code",
      "metadata": {
        "colab": {
          "base_uri": "https://localhost:8080/",
          "height": 424
        },
        "id": "ybxeKOO6qY2z",
        "outputId": "d9e484fc-1d64-49f2-d669-9da784f06d4a"
      },
      "source": [
        "dfTrain"
      ],
      "execution_count": null,
      "outputs": [
        {
          "output_type": "execute_result",
          "data": {
            "text/html": [
              "<div>\n",
              "<style scoped>\n",
              "    .dataframe tbody tr th:only-of-type {\n",
              "        vertical-align: middle;\n",
              "    }\n",
              "\n",
              "    .dataframe tbody tr th {\n",
              "        vertical-align: top;\n",
              "    }\n",
              "\n",
              "    .dataframe thead th {\n",
              "        text-align: right;\n",
              "    }\n",
              "</style>\n",
              "<table border=\"1\" class=\"dataframe\">\n",
              "  <thead>\n",
              "    <tr style=\"text-align: right;\">\n",
              "      <th></th>\n",
              "      <th>reviews</th>\n",
              "      <th>labels</th>\n",
              "    </tr>\n",
              "  </thead>\n",
              "  <tbody>\n",
              "    <tr>\n",
              "      <th>0</th>\n",
              "      <td>note : some may consider portions of the follo...</td>\n",
              "      <td>1</td>\n",
              "    </tr>\n",
              "    <tr>\n",
              "      <th>1</th>\n",
              "      <td>note : some may consider portions of the follo...</td>\n",
              "      <td>1</td>\n",
              "    </tr>\n",
              "    <tr>\n",
              "      <th>2</th>\n",
              "      <td>every once in a while you see a film that is s...</td>\n",
              "      <td>1</td>\n",
              "    </tr>\n",
              "    <tr>\n",
              "      <th>3</th>\n",
              "      <td>when i was growing up in 1970s , boys in my sc...</td>\n",
              "      <td>1</td>\n",
              "    </tr>\n",
              "    <tr>\n",
              "      <th>4</th>\n",
              "      <td>the muppet movie is the first , and the best m...</td>\n",
              "      <td>1</td>\n",
              "    </tr>\n",
              "    <tr>\n",
              "      <th>...</th>\n",
              "      <td>...</td>\n",
              "      <td>...</td>\n",
              "    </tr>\n",
              "    <tr>\n",
              "      <th>1395</th>\n",
              "      <td>it's been hours since i returned from the much...</td>\n",
              "      <td>0</td>\n",
              "    </tr>\n",
              "    <tr>\n",
              "      <th>1396</th>\n",
              "      <td>i'm not sure who the genius is who came up wit...</td>\n",
              "      <td>0</td>\n",
              "    </tr>\n",
              "    <tr>\n",
              "      <th>1397</th>\n",
              "      <td>the classic story &amp; the production which ruine...</td>\n",
              "      <td>0</td>\n",
              "    </tr>\n",
              "    <tr>\n",
              "      <th>1398</th>\n",
              "      <td>according to popular film opinion , a film's g...</td>\n",
              "      <td>0</td>\n",
              "    </tr>\n",
              "    <tr>\n",
              "      <th>1399</th>\n",
              "      <td>i still can't figure out why people went in dr...</td>\n",
              "      <td>0</td>\n",
              "    </tr>\n",
              "  </tbody>\n",
              "</table>\n",
              "<p>1400 rows × 2 columns</p>\n",
              "</div>"
            ],
            "text/plain": [
              "                                                reviews  labels\n",
              "0     note : some may consider portions of the follo...       1\n",
              "1     note : some may consider portions of the follo...       1\n",
              "2     every once in a while you see a film that is s...       1\n",
              "3     when i was growing up in 1970s , boys in my sc...       1\n",
              "4     the muppet movie is the first , and the best m...       1\n",
              "...                                                 ...     ...\n",
              "1395  it's been hours since i returned from the much...       0\n",
              "1396  i'm not sure who the genius is who came up wit...       0\n",
              "1397  the classic story & the production which ruine...       0\n",
              "1398  according to popular film opinion , a film's g...       0\n",
              "1399  i still can't figure out why people went in dr...       0\n",
              "\n",
              "[1400 rows x 2 columns]"
            ]
          },
          "metadata": {},
          "execution_count": 6
        }
      ]
    },
    {
      "cell_type": "markdown",
      "metadata": {
        "id": "LGQvhBaVM7BR"
      },
      "source": [
        "Frequently appearing words and their count"
      ]
    },
    {
      "cell_type": "code",
      "metadata": {
        "colab": {
          "base_uri": "https://localhost:8080/"
        },
        "id": "bwMvqYVxoaHS",
        "outputId": "3a2d0fe5-b44f-4448-fe8b-4f41115dd521"
      },
      "source": [
        "from collections import Counter\n",
        "Counter(\" \".join(dfTrain['reviews']).split()).most_common(20)"
      ],
      "execution_count": null,
      "outputs": [
        {
          "output_type": "execute_result",
          "data": {
            "text/plain": [
              "[(',', 54504),\n",
              " ('the', 53659),\n",
              " ('.', 46149),\n",
              " ('a', 26795),\n",
              " ('and', 24917),\n",
              " ('of', 23828),\n",
              " ('to', 22506),\n",
              " ('is', 17733),\n",
              " ('in', 15235),\n",
              " ('\"', 12420),\n",
              " ('that', 10718),\n",
              " ('it', 8595),\n",
              " (')', 8410),\n",
              " ('(', 8307),\n",
              " ('as', 7888),\n",
              " ('with', 7649),\n",
              " ('for', 6969),\n",
              " ('this', 6911),\n",
              " ('his', 6685),\n",
              " ('film', 6270)]"
            ]
          },
          "metadata": {},
          "execution_count": 7
        }
      ]
    },
    {
      "cell_type": "markdown",
      "metadata": {
        "id": "xUN_yIHYskJh"
      },
      "source": [
        "# Data preprocessing"
      ]
    },
    {
      "cell_type": "markdown",
      "metadata": {
        "id": "WpjVxEoFMMrb"
      },
      "source": [
        "Subsampling the validation dataset"
      ]
    },
    {
      "cell_type": "code",
      "metadata": {
        "id": "jZt4dCKv9_iC"
      },
      "source": [
        "dfVal = dfVal.sample(n=50) \n",
        "\n",
        "print(dfVal.shape) "
      ],
      "execution_count": null,
      "outputs": []
    },
    {
      "cell_type": "markdown",
      "metadata": {
        "id": "a7j6nfdeMFc8"
      },
      "source": [
        "Storing the reviews and labels in an object\n"
      ]
    },
    {
      "cell_type": "code",
      "metadata": {
        "colab": {
          "base_uri": "https://localhost:8080/"
        },
        "id": "YaWEWz8fLxqk",
        "outputId": "ee676804-78ab-42fe-ccf4-72e795120ec2"
      },
      "source": [
        "train_reviews = dfTrain['reviews']\n",
        "y_train = dfTrain['labels']\n",
        "\n",
        "val_reviews = dfVal['reviews']\n",
        "y_val = dfVal['labels']\n",
        "\n",
        "train_reviews.head()"
      ],
      "execution_count": null,
      "outputs": [
        {
          "output_type": "execute_result",
          "data": {
            "text/plain": [
              "0    note : some may consider portions of the follo...\n",
              "1    note : some may consider portions of the follo...\n",
              "2    every once in a while you see a film that is s...\n",
              "3    when i was growing up in 1970s , boys in my sc...\n",
              "4    the muppet movie is the first , and the best m...\n",
              "Name: reviews, dtype: object"
            ]
          },
          "metadata": {},
          "execution_count": 9
        }
      ]
    },
    {
      "cell_type": "markdown",
      "metadata": {
        "id": "2lptU-qdgl1c"
      },
      "source": [
        "Removing punctuation and stopwords\n",
        "\n"
      ]
    },
    {
      "cell_type": "code",
      "metadata": {
        "id": "AOUAIWen_3eB",
        "colab": {
          "base_uri": "https://localhost:8080/"
        },
        "outputId": "f16540db-f0b6-4720-f093-9009571f70e7"
      },
      "source": [
        "import re\n",
        "import nltk\n",
        "from nltk.corpus import stopwords\n",
        "nltk.download('stopwords')\n",
        "\n",
        "stopwords_eng = set(stopwords.words(\"english\"))\n",
        "\n",
        "def preprocessing(text):\n",
        "    text = text.lower() # convert to lowercase\n",
        "    text = re.sub(\"[^a-z]\", \" \", text) # removing punctuation\n",
        "    words = [word for word in text.split() if word not in stopwords_eng] # splitting the sentences into words and removing the stopwords\n",
        "    text = \" \".join(words) # rejoin words into sentences\n",
        "    return text\n",
        "\n",
        "train_reviews = train_reviews.map(preprocessing)\n",
        "val_reviews = val_reviews.map(preprocessing)\n",
        "\n",
        "train_reviews.head()"
      ],
      "execution_count": null,
      "outputs": [
        {
          "output_type": "stream",
          "name": "stdout",
          "text": [
            "[nltk_data] Downloading package stopwords to /root/nltk_data...\n",
            "[nltk_data]   Package stopwords is already up-to-date!\n"
          ]
        },
        {
          "output_type": "execute_result",
          "data": {
            "text/plain": [
              "0    note may consider portions following text spoi...\n",
              "1    note may consider portions following text spoi...\n",
              "2    every see film effective delivering goods easy...\n",
              "3    growing boys school used divide two groups bas...\n",
              "4    muppet movie first best movie among ever growi...\n",
              "Name: reviews, dtype: object"
            ]
          },
          "metadata": {},
          "execution_count": 10
        }
      ]
    },
    {
      "cell_type": "markdown",
      "metadata": {
        "id": "XyldP0iovpix"
      },
      "source": [
        "Checking the character length after the preprocessing has been done."
      ]
    },
    {
      "cell_type": "code",
      "metadata": {
        "colab": {
          "base_uri": "https://localhost:8080/",
          "height": 282
        },
        "id": "ZTRtQKciaS0-",
        "outputId": "ec3db4b9-a302-4724-91c1-5a5baf8840e4"
      },
      "source": [
        "train_reviews.str.len().plot.hist()"
      ],
      "execution_count": null,
      "outputs": [
        {
          "output_type": "execute_result",
          "data": {
            "text/plain": [
              "<matplotlib.axes._subplots.AxesSubplot at 0x7fe7053d8050>"
            ]
          },
          "metadata": {},
          "execution_count": 11
        },
        {
          "output_type": "display_data",
          "data": {
            "image/png": "[encoded data removed]",
            "text/plain": [
              "<Figure size 432x288 with 1 Axes>"
            ]
          },
          "metadata": {
            "needs_background": "light"
          }
        }
      ]
    },
    {
      "cell_type": "markdown",
      "metadata": {
        "id": "3xM8AG_h9VAe"
      },
      "source": [
        "# **Tokenization**"
      ]
    },
    {
      "cell_type": "code",
      "metadata": {
        "colab": {
          "base_uri": "https://localhost:8080/"
        },
        "id": "KKUCUZRxf33X",
        "outputId": "0686b8ba-7334-4b9e-a74b-1ef0d7c231f8"
      },
      "source": [
        "num_words = 5500\n",
        "tokenizer = Tokenizer(num_words=num_words)\n",
        "\n",
        "tokenizer.fit_on_texts(train_reviews)\n",
        "X_train = pd.Series(tokenizer.texts_to_sequences(train_reviews))\n",
        "X_val = pd.Series(tokenizer.texts_to_sequences(val_reviews))\n",
        "\n",
        "X_train"
      ],
      "execution_count": null,
      "outputs": [
        {
          "output_type": "execute_result",
          "data": {
            "text/plain": [
              "0       [397, 76, 1216, 4019, 676, 3568, 2555, 5012, 4...\n",
              "1       [397, 76, 1216, 4019, 676, 3568, 2555, 5012, 4...\n",
              "2       [56, 18, 1, 591, 2624, 4561, 574, 984, 5023, 4...\n",
              "3       [2021, 1144, 236, 265, 14, 4200, 220, 38, 40, ...\n",
              "4       [3, 17, 32, 3, 481, 90, 2021, 893, 40, 3, 415,...\n",
              "                              ...                        \n",
              "1395    [490, 94, 3262, 10, 4846, 855, 856, 523, 734, ...\n",
              "1396    [160, 1535, 652, 237, 5027, 1180, 2137, 439, 2...\n",
              "1397    [377, 8, 332, 2899, 2633, 1463, 377, 35, 194, ...\n",
              "1398    [2727, 664, 1, 1471, 1, 3329, 1877, 6, 66, 330...\n",
              "1399    [49, 611, 25, 555, 18, 3, 44, 379, 117, 1374, ...\n",
              "Length: 1400, dtype: object"
            ]
          },
          "metadata": {},
          "execution_count": 12
        }
      ]
    },
    {
      "cell_type": "code",
      "metadata": {
        "colab": {
          "base_uri": "https://localhost:8080/"
        },
        "id": "b-cvvQKyzuWw",
        "outputId": "697eedd9-4996-4e4a-cdb9-f26a080b432f"
      },
      "source": [
        "maxlen = 250\n",
        "X_train_pad = pad_sequences(X_train, padding='post', maxlen=maxlen)\n",
        "X_val_pad = pad_sequences(X_val, padding='post', maxlen=maxlen)\n",
        "\n",
        "X_train_pad"
      ],
      "execution_count": null,
      "outputs": [
        {
          "output_type": "execute_result",
          "data": {
            "text/plain": [
              "array([[2412, 5014,  756, ...,   24,   90,   43],\n",
              "       [ 317, 5017, 1218, ..., 4026,    1,   65],\n",
              "       [ 430,  228,  206, ..., 1711,    2,   65],\n",
              "       ...,\n",
              "       [2651,  890, 3665, ..., 2618,   18, 1284],\n",
              "       [2524,  310,  357, ..., 3872,    2,  304],\n",
              "       [ 350,  202,    3, ...,  526, 3293,  977]], dtype=int32)"
            ]
          },
          "metadata": {},
          "execution_count": 13
        }
      ]
    },
    {
      "cell_type": "code",
      "metadata": {
        "id": "Cvizn67FPS8v"
      },
      "source": [
        "from keras.models import Sequential\n",
        "from keras.layers import Embedding, LSTM, Dense, GlobalMaxPool1D, Dropout\n",
        "\n",
        "def movie_review_classifier():\n",
        "    model = Sequential()\n",
        "\n",
        "    model.add(Embedding(input_dim=num_words, input_length=maxlen, output_dim=64)) \n",
        "    model.add(LSTM(32, return_sequences=True))\n",
        "    model.add(GlobalMaxPool1D())\n",
        "    model.add(Dense(16, activation='relu'))\n",
        "    model.add(Dropout(0.2))\n",
        "    model.add(Dense(1, activation='sigmoid'))\n",
        "\n",
        "    model.compile(optimizer='adam', loss='binary_crossentropy', metrics=['accuracy'])\n",
        "    model.summary()\n",
        "    return model"
      ],
      "execution_count": null,
      "outputs": []
    },
    {
      "cell_type": "code",
      "metadata": {
        "colab": {
          "base_uri": "https://localhost:8080/"
        },
        "id": "jCvt2T2IPfvm",
        "outputId": "93bba634-3deb-406f-ae94-6f2af351e2c3"
      },
      "source": [
        "model = movie_review_classifier()\n",
        "training = model.fit(x=X_train_pad, y=y_train ,epochs=5, validation_data = (X_val_pad, y_val), shuffle=True, verbose=True, batch_size=32)"
      ],
      "execution_count": null,
      "outputs": [
        {
          "output_type": "stream",
          "name": "stdout",
          "text": [
            "Model: \"sequential\"\n",
            "_________________________________________________________________\n",
            " Layer (type)                Output Shape              Param #   \n",
            "=================================================================\n",
            " embedding (Embedding)       (None, 250, 64)           352000    \n",
            "                                                                 \n",
            " lstm (LSTM)                 (None, 250, 32)           12416     \n",
            "                                                                 \n",
            " global_max_pooling1d (Globa  (None, 32)               0         \n",
            " lMaxPooling1D)                                                  \n",
            "                                                                 \n",
            " dense (Dense)               (None, 16)                528       \n",
            "                                                                 \n",
            " dropout (Dropout)           (None, 16)                0         \n",
            "                                                                 \n",
            " dense_1 (Dense)             (None, 1)                 17        \n",
            "                                                                 \n",
            "=================================================================\n",
            "Total params: 364,961\n",
            "Trainable params: 364,961\n",
            "Non-trainable params: 0\n",
            "_________________________________________________________________\n",
            "Epoch 1/5\n",
            "44/44 [==============================] - 8s 140ms/step - loss: 0.6914 - accuracy: 0.5329 - val_loss: 0.6894 - val_accuracy: 0.5800\n",
            "Epoch 2/5\n",
            "44/44 [==============================] - 6s 129ms/step - loss: 0.6388 - accuracy: 0.7371 - val_loss: 0.6472 - val_accuracy: 0.6600\n",
            "Epoch 3/5\n",
            "44/44 [==============================] - 6s 126ms/step - loss: 0.5078 - accuracy: 0.8000 - val_loss: 0.4995 - val_accuracy: 0.7400\n",
            "Epoch 4/5\n",
            "44/44 [==============================] - 6s 127ms/step - loss: 0.2856 - accuracy: 0.9086 - val_loss: 0.4736 - val_accuracy: 0.7800\n",
            "Epoch 5/5\n",
            "44/44 [==============================] - 6s 147ms/step - loss: 0.1775 - accuracy: 0.9586 - val_loss: 0.4859 - val_accuracy: 0.8000\n"
          ]
        }
      ]
    },
    {
      "cell_type": "code",
      "metadata": {
        "id": "uV736y7y-uHj"
      },
      "source": [
        "import matplotlib.pyplot as plt\n",
        "\n",
        "def plot_history(training):\n",
        "# Plot history: MAE\n",
        "  plt.plot(training.history['accuracy'], label='Training Accuracy')\n",
        "  plt.plot(training.history['val_accuracy'], label='Validation Accuracy')\n",
        "  plt.plot(training.history['val_loss'], label='Validation Loss')\n",
        "  plt.title('Movie Review Classifier')\n",
        "  plt.ylabel('Percent')\n",
        "  plt.xlabel('Epoch')\n",
        "  plt.legend(loc=\"lower right\")\n",
        "  plt.show()\n",
        "  "
      ],
      "execution_count": null,
      "outputs": []
    },
    {
      "cell_type": "code",
      "metadata": {
        "colab": {
          "base_uri": "https://localhost:8080/",
          "height": 295
        },
        "id": "17lwv5BaRMsO",
        "outputId": "c974e234-234a-43fe-fe3e-8cdf379db1b6"
      },
      "source": [
        "plot_history(training)"
      ],
      "execution_count": null,
      "outputs": [
        {
          "output_type": "display_data",
          "data": {
            "image/png": "[encoded data removed]",
            "text/plain": [
              "<Figure size 432x288 with 1 Axes>"
            ]
          },
          "metadata": {
            "needs_background": "light"
          }
        }
      ]
    },
    {
      "cell_type": "markdown",
      "metadata": {
        "id": "OYS3WHIqzKfs"
      },
      "source": [
        "# **Testing the model**"
      ]
    },
    {
      "cell_type": "code",
      "metadata": {
        "id": "OVONdOq03KGj"
      },
      "source": [
        "dfTest\n",
        "\n",
        "dfTest = dfTest.loc[1: , : ] # removing the first row of the dataset, since it is irrelevant\n",
        "\n",
        "test_reviews = dfTest['reviews']\n",
        "test_labels = dfTest['labels']"
      ],
      "execution_count": null,
      "outputs": []
    },
    {
      "cell_type": "markdown",
      "metadata": {
        "id": "RS0ZJRZ_wNtQ"
      },
      "source": [
        "Preprocessing the test dataset"
      ]
    },
    {
      "cell_type": "code",
      "metadata": {
        "colab": {
          "base_uri": "https://localhost:8080/"
        },
        "id": "qzZE2lFhRjfc",
        "outputId": "5718a753-3b1c-4d28-a4ef-651cdcb2685c"
      },
      "source": [
        "test = dfTest.reviews.map(preprocessing)\n",
        "\n",
        "test.head()"
      ],
      "execution_count": null,
      "outputs": [
        {
          "output_type": "execute_result",
          "data": {
            "text/plain": [
              "1    wild things suspenseful thriller starring matt...\n",
              "2    know already opened december finally got aroun...\n",
              "3    shocking carlito way good gotten bit bad rap b...\n",
              "4    uncompromising french director robert bresson ...\n",
              "5    aggressive bleak unrelenting film interracial ...\n",
              "Name: reviews, dtype: object"
            ]
          },
          "metadata": {},
          "execution_count": 19
        }
      ]
    },
    {
      "cell_type": "markdown",
      "metadata": {
        "id": "RipdxXR0wQ5-"
      },
      "source": [
        "Tokenization"
      ]
    },
    {
      "cell_type": "code",
      "metadata": {
        "id": "gL708mBCzVHU"
      },
      "source": [
        "X_test_seq = tokenizer.texts_to_sequences(test)\n",
        "X_test_pad = pad_sequences(X_test_seq, maxlen=maxlen)"
      ],
      "execution_count": null,
      "outputs": []
    },
    {
      "cell_type": "markdown",
      "metadata": {
        "id": "aaGdjlAYwSJJ"
      },
      "source": [
        "Prediction"
      ]
    },
    {
      "cell_type": "code",
      "metadata": {
        "id": "ou2CWZ3Czm69"
      },
      "source": [
        "pred = model.predict(x=X_test_pad)\n",
        "round_predict = (pred >= 0.5) * 1 # the "
      ],
      "execution_count": null,
      "outputs": []
    },
    {
      "cell_type": "markdown",
      "metadata": {
        "id": "D1Pr3iuBwU95"
      },
      "source": [
        "Values in a confusion matrix must be from the same type"
      ]
    },
    {
      "cell_type": "code",
      "metadata": {
        "id": "LXOrw7B35wi6"
      },
      "source": [
        "test_labels = np.array(test_labels)\n",
        "test_labels = test_labels.astype(int)"
      ],
      "execution_count": null,
      "outputs": []
    },
    {
      "cell_type": "markdown",
      "metadata": {
        "id": "ZVqu6zUwwxOt"
      },
      "source": [
        "Creating a confusion matrix"
      ]
    },
    {
      "cell_type": "code",
      "metadata": {
        "id": "lFgcUvvv0xwn"
      },
      "source": [
        "from sklearn.metrics import confusion_matrix\n",
        "\n",
        "cm = confusion_matrix(y_true=test_labels, y_pred=round_predict)"
      ],
      "execution_count": null,
      "outputs": []
    },
    {
      "cell_type": "code",
      "metadata": {
        "id": "nOh9Vgoo5PHR"
      },
      "source": [
        "# This section of code is copied from https://deeplizard.com/learn/video/km7pxKy4UHU\n",
        "\n",
        "def plot_confusion_matrix(cm, classes,\n",
        "                        normalize=False,\n",
        "                        title='Confusion matrix',\n",
        "                        cmap=plt.cm.Blues):\n",
        "    \"\"\"\n",
        "    This function prints and plots the confusion matrix.\n",
        "    Normalization can be applied by setting `normalize=True`.\n",
        "    \"\"\"\n",
        "    plt.imshow(cm, interpolation='nearest', cmap=cmap)\n",
        "    plt.title(title)\n",
        "    plt.colorbar()\n",
        "    tick_marks = np.arange(len(classes))\n",
        "    plt.xticks(tick_marks, classes, rotation=45)\n",
        "    plt.yticks(tick_marks, classes)\n",
        "\n",
        "    if normalize:\n",
        "        cm = cm.astype('float') / cm.sum(axis=1)[:, np.newaxis]\n",
        "        print(\"Normalized confusion matrix\")\n",
        "    else:\n",
        "        print('Confusion matrix, without normalization')\n",
        "\n",
        "    print(cm)\n",
        "\n",
        "    thresh = cm.max() / 2.\n",
        "    for i, j in itertools.product(range(cm.shape[0]), range(cm.shape[1])):\n",
        "        plt.text(j, i, cm[i, j],\n",
        "            horizontalalignment=\"center\",\n",
        "            color=\"white\" if cm[i, j] > thresh else \"black\")\n",
        "\n",
        "    plt.tight_layout()\n",
        "    plt.ylabel('True label')\n",
        "    plt.xlabel('Predicted label')"
      ],
      "execution_count": null,
      "outputs": []
    },
    {
      "cell_type": "code",
      "metadata": {
        "id": "K9bcPzSR3hhB"
      },
      "source": [
        "cm_plot_labels = ['positive review','negative review'] # setting up the labels for the plot"
      ],
      "execution_count": null,
      "outputs": []
    },
    {
      "cell_type": "code",
      "metadata": {
        "colab": {
          "base_uri": "https://localhost:8080/",
          "height": 363
        },
        "id": "YIgY5Udd3sNR",
        "outputId": "4f0e058d-7520-4244-8584-a752a1235a5e"
      },
      "source": [
        "plot_confusion_matrix(cm=cm, classes=cm_plot_labels, title='Confusion Matrix') # printing the confusion matrix"
      ],
      "execution_count": null,
      "outputs": [
        {
          "output_type": "stream",
          "name": "stdout",
          "text": [
            "Confusion matrix, without normalization\n",
            "[[151  35]\n",
            " [ 30 184]]\n"
          ]
        },
        {
          "output_type": "display_data",
          "data": {
            "image/png": "[encoded data removed]",
            "text/plain": [
              "<Figure size 432x288 with 2 Axes>"
            ]
          },
          "metadata": {
            "needs_background": "light"
          }
        }
      ]
    },
    {
      "cell_type": "code",
      "metadata": {
        "id": "1cxR7bGF4PSJ",
        "colab": {
          "base_uri": "https://localhost:8080/"
        },
        "outputId": "95a3e3fd-da34-49f6-e6e7-77a2f1536a41"
      },
      "source": [
        "# Evaluating the model \n",
        "\n",
        "loss, accuracy = model.evaluate(X_train_pad, y_train, verbose=False)\n",
        "print(\"Training Accuracy: {:.4f}\".format(accuracy))\n",
        "loss, accuracy = model.evaluate(X_test_pad, test_labels, verbose=False)\n",
        "print(\"Testing Accuracy:  {:.4f}\".format(accuracy))"
      ],
      "execution_count": null,
      "outputs": [
        {
          "output_type": "stream",
          "name": "stdout",
          "text": [
            "Training Accuracy: 0.9886\n",
            "Testing Accuracy:  0.8375\n"
          ]
        }
      ]
    },
    {
      "cell_type": "code",
      "metadata": {
        "id": "mD8c7PT2znTN"
      },
      "source": [
        "# Predicting all values and writing them to a csv file\n",
        "\n",
        "results = pd.DataFrame({\"review\": dfTest.reviews, \"label\": round_predict.flatten()})\n",
        "results.to_csv('/content/drive/My Drive/predictions.csv', index=False)"
      ],
      "execution_count": null,
      "outputs": []
    }
  ]
}